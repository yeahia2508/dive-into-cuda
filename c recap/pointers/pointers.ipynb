{
  "nbformat": 4,
  "nbformat_minor": 0,
  "metadata": {
    "colab": {
      "provenance": []
    },
    "kernelspec": {
      "name": "python3",
      "display_name": "Python 3"
    },
    "language_info": {
      "name": "python"
    }
  },
  "cells": [
    {
      "cell_type": "markdown",
      "source": [
        "## Explore C pointers"
      ],
      "metadata": {
        "id": "jOg0Fr2GNb08"
      }
    },
    {
      "cell_type": "markdown",
      "source": [
        "#### **Example 1: simple veriable and its pointer**"
      ],
      "metadata": {
        "id": "LFVoSCYXNinw"
      }
    },
    {
      "cell_type": "code",
      "execution_count": 18,
      "metadata": {
        "colab": {
          "base_uri": "https://localhost:8080/"
        },
        "id": "UowxM1bxKo3x",
        "outputId": "ffe3181f-5b3e-4a26-8dc8-51d7935c77fa"
      },
      "outputs": [
        {
          "output_type": "stream",
          "name": "stdout",
          "text": [
            "Overwriting pointer1.c\n"
          ]
        }
      ],
      "source": [
        "%%writefile pointer1.c\n",
        "#include <stdio.h>\n",
        "\n",
        "int main() {\n",
        "  int x = 10;\n",
        "  int* ptr = &x;\n",
        "  printf(\"Address of x: %p\\n\", &x);\n",
        "  printf(\"Value of ptr: %d\\n\", *ptr);\n",
        "}\n"
      ]
    },
    {
      "cell_type": "code",
      "source": [
        "!gcc pointer1.c -o pointer1\n",
        "!./pointer1"
      ],
      "metadata": {
        "colab": {
          "base_uri": "https://localhost:8080/"
        },
        "id": "7n9w_ngnMfnd",
        "outputId": "7b61c63e-9499-41ee-9c1a-fadc3044f79c"
      },
      "execution_count": 19,
      "outputs": [
        {
          "output_type": "stream",
          "name": "stdout",
          "text": [
            "Address of x: 0x7ffd6f9c74dc\n",
            "Value of ptr: 10\n"
          ]
        }
      ]
    },
    {
      "cell_type": "markdown",
      "source": [
        "#### **Example 2: Pointer to a pointer**"
      ],
      "metadata": {
        "id": "MEN5guRsOVYL"
      }
    },
    {
      "cell_type": "code",
      "source": [
        "%%writefile pointer2.c\n",
        "#include <stdio.h>\n",
        "\n",
        "int main() {\n",
        "  int value = 42;\n",
        "  int* ptr1 = &value;\n",
        "  int** ptr2 = &ptr1;\n",
        "  int*** ptr3 = &ptr2;\n",
        "\n",
        "  printf(\"Address of value: %p\\n\", &value);\n",
        "  printf(\"Address of ptr1: %p\\n\", &ptr1);\n",
        "  printf(\"Address of ptr2: %p\\n\", &ptr2);\n",
        "  printf(\"Address of ptr3: %p\\n\", &ptr3);\n",
        "  printf(\"Value of ptr1: %d\\n\", *ptr1);\n",
        "  printf(\"Value of ptr2: %d\\n\", **ptr2);\n",
        "  printf(\"Value of ptr3: %d\\n\", ***ptr3);\n",
        "}\n"
      ],
      "metadata": {
        "colab": {
          "base_uri": "https://localhost:8080/"
        },
        "id": "xLtyKw3iNudX",
        "outputId": "d7e7bc67-1d72-45ac-d62e-8bd1bfb20e78"
      },
      "execution_count": 24,
      "outputs": [
        {
          "output_type": "stream",
          "name": "stdout",
          "text": [
            "Overwriting pointer2.c\n"
          ]
        }
      ]
    },
    {
      "cell_type": "code",
      "source": [
        "!gcc pointer2.c -o pointer2\n",
        "!./pointer2"
      ],
      "metadata": {
        "colab": {
          "base_uri": "https://localhost:8080/"
        },
        "id": "SAqJxaQGOZxN",
        "outputId": "48bbe2f8-adac-42d8-fd4f-8eacc2495ad3"
      },
      "execution_count": 25,
      "outputs": [
        {
          "output_type": "stream",
          "name": "stdout",
          "text": [
            "Address of value: 0x7ffe90aaa01c\n",
            "Address of ptr1: 0x7ffe90aaa020\n",
            "Address of ptr2: 0x7ffe90aaa028\n",
            "Address of ptr3: 0x7ffe90aaa030\n",
            "Value of ptr1: 42\n",
            "Value of ptr2: 42\n",
            "Value of ptr3: 42\n"
          ]
        }
      ]
    },
    {
      "cell_type": "markdown",
      "source": [
        "#### **Example 3: Void Pointers**"
      ],
      "metadata": {
        "id": "Jg-vmyQnQe4B"
      }
    },
    {
      "cell_type": "code",
      "source": [
        "%%writefile pointer3.c\n",
        "#include <stdio.h>\n",
        "\n",
        "int main() {\n",
        "  int num = 10;\n",
        "  float fnum = 3.14;\n",
        "  void* vptr;\n",
        "\n",
        "  vptr = &num;\n",
        "\n",
        "  printf(\"Value of num: %d\\n\", *(int*)vptr);\n",
        "\n",
        "  vptr = &fnum;\n",
        "\n",
        "  printf(\"Value of fnum: %f\\n\", *(float*)vptr);\n",
        "}\n"
      ],
      "metadata": {
        "colab": {
          "base_uri": "https://localhost:8080/"
        },
        "id": "zfSm41OfQjc0",
        "outputId": "ac242f19-bd8e-4d25-dc42-caafaec99aea"
      },
      "execution_count": 28,
      "outputs": [
        {
          "output_type": "stream",
          "name": "stdout",
          "text": [
            "Overwriting pointer3.c\n"
          ]
        }
      ]
    },
    {
      "cell_type": "code",
      "source": [
        "!gcc pointer3.c -o pointer3\n",
        "!./pointer3"
      ],
      "metadata": {
        "colab": {
          "base_uri": "https://localhost:8080/"
        },
        "id": "HMoXoldYRL75",
        "outputId": "d457fbe0-7ba3-4380-fdcd-d7ed34b004d7"
      },
      "execution_count": 29,
      "outputs": [
        {
          "output_type": "stream",
          "name": "stdout",
          "text": [
            "Value of num: 10\n",
            "Value of fnum: 3.140000\n"
          ]
        }
      ]
    },
    {
      "cell_type": "markdown",
      "source": [
        "#### **Example 4: NULL pointers**"
      ],
      "metadata": {
        "id": "vjBVFrcZSxjP"
      }
    },
    {
      "cell_type": "code",
      "source": [
        "%%writefile pointer4.c\n",
        "#include <stdio.h>\n",
        "#include <stdlib.h>\n",
        "\n",
        "int main() {\n",
        "  int* ptr = NULL;\n",
        "  printf(\"Initial ptr value: %p\\n\", (void*) ptr);\n",
        "\n",
        "  if(ptr == NULL){\n",
        "    printf(\"ptr is NULL\\n\");\n",
        "  }\n",
        "  else{\n",
        "    printf(\"ptr is not NULL\\n\");\n",
        "  }\n",
        "\n",
        "  ptr = (int*) malloc(sizeof(int));\n",
        "\n",
        "  if(ptr == NULL){\n",
        "    printf(\"memory allocation failed\\n\");\n",
        "    return 1;\n",
        "  } else {\n",
        "    printf(\"memory allocation sccessfull\\n\");\n",
        "    *ptr = 42;\n",
        "    printf(\"Value of ptr: %d\\n\", *ptr);\n",
        "    printf(\"Address of ptr: %p\\n\", (void*) ptr);\n",
        "    free(ptr);\n",
        "  }\n",
        "}"
      ],
      "metadata": {
        "colab": {
          "base_uri": "https://localhost:8080/"
        },
        "id": "mVjNtEu3TGb5",
        "outputId": "3ef7e9b1-0838-47d7-fcaa-87a5733011cd"
      },
      "execution_count": 38,
      "outputs": [
        {
          "output_type": "stream",
          "name": "stdout",
          "text": [
            "Overwriting pointer4.c\n"
          ]
        }
      ]
    },
    {
      "cell_type": "code",
      "source": [
        "!gcc pointer4.c -o pointer4\n",
        "!./pointer4"
      ],
      "metadata": {
        "colab": {
          "base_uri": "https://localhost:8080/"
        },
        "id": "gDpfZCJtULwi",
        "outputId": "83b463ad-30ca-4208-f1c3-654d6bcfefd5"
      },
      "execution_count": 39,
      "outputs": [
        {
          "output_type": "stream",
          "name": "stdout",
          "text": [
            "Initial ptr value: (nil)\n",
            "ptr is NULL\n",
            "memory allocation sccessfull\n",
            "Value of ptr: 42\n",
            "Address of ptr: 0x5b8a2a8e16b0\n"
          ]
        }
      ]
    },
    {
      "cell_type": "markdown",
      "source": [
        "#### **Example 5: Pointers in array**"
      ],
      "metadata": {
        "id": "9-BmQJaqUrNi"
      }
    },
    {
      "cell_type": "code",
      "source": [
        "%%writefile pointer5.c\n",
        "#include <stdio.h>\n",
        "\n",
        "int main() {\n",
        "  int arr[] = {1, 2, 3, 4, 5};\n",
        "  printf(\"Arr initial address: %p \\n\", arr);\n",
        "  int *ptr = arr;\n",
        "  printf(\"First array value: %d\\n\", *ptr);\n",
        "\n",
        "  for(int i = 0; i < 5; i++){\n",
        "    printf(\"Value: %d, \", *ptr);\n",
        "    printf(\"Address: %p, \", ptr);\n",
        "    printf(\"Address of pointer: %p\\n\", &ptr);\n",
        "    ptr++;\n",
        "  }\n",
        "\n",
        "}"
      ],
      "metadata": {
        "colab": {
          "base_uri": "https://localhost:8080/"
        },
        "id": "xWS0TFMMVebw",
        "outputId": "28b67088-d11e-4d00-fc3d-66e897a8bbcf"
      },
      "execution_count": 63,
      "outputs": [
        {
          "output_type": "stream",
          "name": "stdout",
          "text": [
            "Overwriting pointer5.c\n"
          ]
        }
      ]
    },
    {
      "cell_type": "code",
      "source": [
        "!gcc pointer5.c -o pointer5\n",
        "!./pointer5"
      ],
      "metadata": {
        "colab": {
          "base_uri": "https://localhost:8080/"
        },
        "id": "DPhTN_UMVxSF",
        "outputId": "0f494069-85f4-4b25-f902-6af97ae59fd3"
      },
      "execution_count": 64,
      "outputs": [
        {
          "output_type": "stream",
          "name": "stdout",
          "text": [
            "Arr initial address: 0x7fffeb1291f0 \n",
            "First array value: 1\n",
            "Value: 1, Address: 0x7fffeb1291f0, Address of pointer: 0x7fffeb1291e8\n",
            "Value: 2, Address: 0x7fffeb1291f4, Address of pointer: 0x7fffeb1291e8\n",
            "Value: 3, Address: 0x7fffeb1291f8, Address of pointer: 0x7fffeb1291e8\n",
            "Value: 4, Address: 0x7fffeb1291fc, Address of pointer: 0x7fffeb1291e8\n",
            "Value: 5, Address: 0x7fffeb129200, Address of pointer: 0x7fffeb1291e8\n"
          ]
        }
      ]
    }
  ]
}