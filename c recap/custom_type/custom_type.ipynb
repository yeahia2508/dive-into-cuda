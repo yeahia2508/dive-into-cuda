{
  "nbformat": 4,
  "nbformat_minor": 0,
  "metadata": {
    "colab": {
      "provenance": []
    },
    "kernelspec": {
      "name": "python3",
      "display_name": "Python 3"
    },
    "language_info": {
      "name": "python"
    }
  },
  "cells": [
    {
      "cell_type": "markdown",
      "source": [
        "# size_t vs int"
      ],
      "metadata": {
        "id": "17MXA6LnjlKQ"
      }
    },
    {
      "cell_type": "code",
      "source": [
        "%%writefile custom_type1.c\n",
        "\n",
        "#include <stdio.h>\n",
        "\n",
        "int main() {\n",
        "  int arr[] = {12,24,36,48,60};\n",
        "\n",
        "  size_t size = sizeof(arr) / sizeof(arr[0]);\n",
        "  printf(\"Size of array: %zu\\n\", size);\n",
        "  printf(\"Size of size_t: %zu\\n\", sizeof(size_t));\n",
        "  printf(\"int size in bytes: %zu\\n\", sizeof(int));\n",
        "\n",
        "  return 0;\n",
        "}"
      ],
      "metadata": {
        "colab": {
          "base_uri": "https://localhost:8080/"
        },
        "id": "ifJXKg-ef0Hb",
        "outputId": "b35b8ad2-579a-4308-c644-62ddef1b1dd9"
      },
      "execution_count": 10,
      "outputs": [
        {
          "output_type": "stream",
          "name": "stdout",
          "text": [
            "Writing custom_type1.c\n"
          ]
        }
      ]
    },
    {
      "cell_type": "code",
      "source": [
        "!gcc custom_type1.c -o custom_type1\n",
        "!./custom_type1"
      ],
      "metadata": {
        "colab": {
          "base_uri": "https://localhost:8080/"
        },
        "id": "RiTBIgTtf07x",
        "outputId": "a0ffd1be-632d-4367-d32a-a22fe226dc4c"
      },
      "execution_count": 11,
      "outputs": [
        {
          "output_type": "stream",
          "name": "stdout",
          "text": [
            "Size of array: 5\n",
            "Size of size_t: 8\n",
            "int size in bytes: 4\n"
          ]
        }
      ]
    },
    {
      "cell_type": "markdown",
      "source": [
        "# Custom Type"
      ],
      "metadata": {
        "id": "NPbnQCmdj__a"
      }
    },
    {
      "cell_type": "code",
      "execution_count": 14,
      "metadata": {
        "colab": {
          "base_uri": "https://localhost:8080/"
        },
        "id": "Y-Mf7tred-O-",
        "outputId": "6d3cb7a9-2ca9-49ca-af89-1f848fd20c27"
      },
      "outputs": [
        {
          "output_type": "stream",
          "name": "stdout",
          "text": [
            "Overwriting custom_type2.c\n"
          ]
        }
      ],
      "source": [
        "%%writefile custom_type2.c\n",
        "\n",
        "#include <stdio.h>\n",
        "typedef struct {\n",
        "  float x;\n",
        "  float y;\n",
        "  float z;\n",
        "} Point;\n",
        "\n",
        "int main() {\n",
        "  Point p = {1.1, 1.5, 2.4};\n",
        "  printf(\"Size of point: %zu\\n\", sizeof(p));\n",
        "}"
      ]
    },
    {
      "cell_type": "code",
      "source": [
        "!gcc custom_type2.c -o custom_type2\n",
        "!./custom_type2"
      ],
      "metadata": {
        "colab": {
          "base_uri": "https://localhost:8080/"
        },
        "id": "AParReQ6fTh2",
        "outputId": "edbd4464-91ec-4d4e-be6c-b8b33972e112"
      },
      "execution_count": 15,
      "outputs": [
        {
          "output_type": "stream",
          "name": "stdout",
          "text": [
            "Size of point: 12\n"
          ]
        }
      ]
    }
  ]
}